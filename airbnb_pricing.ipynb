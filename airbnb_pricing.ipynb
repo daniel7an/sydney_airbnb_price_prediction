{
  "cells": [
    {
      "cell_type": "markdown",
      "metadata": {
        "id": "p_-uLJfKWyCV"
      },
      "source": [
        "**Data Preparation**"
      ]
    },
    {
      "cell_type": "code",
      "execution_count": 1,
      "metadata": {
        "id": "iQN3nT56DZlJ"
      },
      "outputs": [
        {
          "ename": "ModuleNotFoundError",
          "evalue": "No module named 'seaborn'",
          "output_type": "error",
          "traceback": [
            "\u001b[0;31m---------------------------------------------------------------------------\u001b[0m",
            "\u001b[0;31mModuleNotFoundError\u001b[0m                       Traceback (most recent call last)",
            "Cell \u001b[0;32mIn[1], line 4\u001b[0m\n\u001b[1;32m      2\u001b[0m \u001b[38;5;28;01mimport\u001b[39;00m \u001b[38;5;21;01mnumpy\u001b[39;00m \u001b[38;5;28;01mas\u001b[39;00m \u001b[38;5;21;01mnp\u001b[39;00m\n\u001b[1;32m      3\u001b[0m \u001b[38;5;28;01mimport\u001b[39;00m \u001b[38;5;21;01mmatplotlib\u001b[39;00m\u001b[38;5;21;01m.\u001b[39;00m\u001b[38;5;21;01mpyplot\u001b[39;00m \u001b[38;5;28;01mas\u001b[39;00m \u001b[38;5;21;01mplt\u001b[39;00m\n\u001b[0;32m----> 4\u001b[0m \u001b[38;5;28;01mimport\u001b[39;00m \u001b[38;5;21;01mseaborn\u001b[39;00m \u001b[38;5;28;01mas\u001b[39;00m \u001b[38;5;21;01msns\u001b[39;00m\n",
            "\u001b[0;31mModuleNotFoundError\u001b[0m: No module named 'seaborn'"
          ]
        }
      ],
      "source": [
        "import pandas as pd\n",
        "import numpy as np\n",
        "import matplotlib.pyplot as plt\n",
        "import seaborn as sns"
      ]
    },
    {
      "cell_type": "code",
      "execution_count": null,
      "metadata": {
        "id": "hN45vgjsX9ou"
      },
      "outputs": [],
      "source": [
        "df = pd.read_csv('airbnb_sydney.csv')"
      ]
    },
    {
      "cell_type": "code",
      "execution_count": null,
      "metadata": {
        "colab": {
          "base_uri": "https://localhost:8080/"
        },
        "id": "TUGS0POk2L3W",
        "outputId": "7d10054a-fdb2-45a6-b8c0-10bb7c9432d5"
      },
      "outputs": [
        {
          "name": "stdout",
          "output_type": "stream",
          "text": [
            "<class 'pandas.core.frame.DataFrame'>\n",
            "RangeIndex: 25480 entries, 0 to 25479\n",
            "Data columns (total 18 columns):\n",
            " #   Column                          Non-Null Count  Dtype  \n",
            "---  ------                          --------------  -----  \n",
            " 0   id                              25480 non-null  int64  \n",
            " 1   name                            25480 non-null  object \n",
            " 2   host_id                         25480 non-null  int64  \n",
            " 3   host_name                       25478 non-null  object \n",
            " 4   neighbourhood_group             0 non-null      float64\n",
            " 5   neighbourhood                   25480 non-null  object \n",
            " 6   latitude                        25480 non-null  float64\n",
            " 7   longitude                       25480 non-null  float64\n",
            " 8   room_type                       25480 non-null  object \n",
            " 9   price                           24382 non-null  float64\n",
            " 10  minimum_nights                  25480 non-null  int64  \n",
            " 11  number_of_reviews               25480 non-null  int64  \n",
            " 12  last_review                     18275 non-null  object \n",
            " 13  reviews_per_month               18275 non-null  float64\n",
            " 14  calculated_host_listings_count  25480 non-null  int64  \n",
            " 15  availability_365                25480 non-null  int64  \n",
            " 16  number_of_reviews_ltm           25480 non-null  int64  \n",
            " 17  license                         15023 non-null  object \n",
            "dtypes: float64(5), int64(7), object(6)\n",
            "memory usage: 3.5+ MB\n"
          ]
        }
      ],
      "source": [
        "df.info()"
      ]
    },
    {
      "cell_type": "code",
      "execution_count": null,
      "metadata": {
        "colab": {
          "base_uri": "https://localhost:8080/"
        },
        "id": "sEB19sRHqUOR",
        "outputId": "47875adb-26c9-4327-c9dc-fb9efa7793a7"
      },
      "outputs": [
        {
          "name": "stderr",
          "output_type": "stream",
          "text": [
            "<ipython-input-6-a35444e9070e>:1: FutureWarning: The default value of numeric_only in DataFrame.corr is deprecated. In a future version, it will default to False. Select only valid columns or specify the value of numeric_only to silence this warning.\n",
            "  df.corr().price\n"
          ]
        },
        {
          "data": {
            "text/plain": [
              "id                                0.115583\n",
              "host_id                          -0.033339\n",
              "neighbourhood_group                    NaN\n",
              "latitude                          0.179618\n",
              "longitude                         0.173002\n",
              "price                             1.000000\n",
              "minimum_nights                   -0.083826\n",
              "number_of_reviews                -0.056181\n",
              "reviews_per_month                -0.037983\n",
              "calculated_host_listings_count    0.108506\n",
              "availability_365                  0.138373\n",
              "number_of_reviews_ltm            -0.056340\n",
              "Name: price, dtype: float64"
            ]
          },
          "execution_count": 6,
          "metadata": {},
          "output_type": "execute_result"
        }
      ],
      "source": [
        "df.corr().price"
      ]
    },
    {
      "cell_type": "code",
      "execution_count": null,
      "metadata": {
        "colab": {
          "base_uri": "https://localhost:8080/"
        },
        "id": "OAgv46eJ1u1H",
        "outputId": "6f9b56be-89fd-4e3a-ae86-fd25e1e0fac1"
      },
      "outputs": [
        {
          "data": {
            "text/plain": [
              "id                                    0\n",
              "name                                  0\n",
              "host_id                               0\n",
              "host_name                             2\n",
              "neighbourhood_group               25480\n",
              "neighbourhood                         0\n",
              "latitude                              0\n",
              "longitude                             0\n",
              "room_type                             0\n",
              "price                              1098\n",
              "minimum_nights                        0\n",
              "number_of_reviews                     0\n",
              "last_review                        7205\n",
              "reviews_per_month                  7205\n",
              "calculated_host_listings_count        0\n",
              "availability_365                      0\n",
              "number_of_reviews_ltm                 0\n",
              "license                           10457\n",
              "dtype: int64"
            ]
          },
          "execution_count": 7,
          "metadata": {},
          "output_type": "execute_result"
        }
      ],
      "source": [
        "df.isna().sum()"
      ]
    },
    {
      "cell_type": "code",
      "execution_count": null,
      "metadata": {
        "id": "xLiJZkvV2_X1"
      },
      "outputs": [],
      "source": [
        "# Creating dataframe for implementing regression\n",
        "df = df.drop(['id', 'host_name', 'host_id', 'neighbourhood_group', 'neighbourhood', 'latitude', 'longitude', 'last_review', 'reviews_per_month', 'license'], axis=1)"
      ]
    },
    {
      "cell_type": "code",
      "execution_count": null,
      "metadata": {
        "id": "5M1i9WeLky9J"
      },
      "outputs": [],
      "source": [
        "# extracting features from name column\n",
        "import re\n",
        "def extract_values(text, pattern):\n",
        "    match = pattern.search(text)\n",
        "\n",
        "    return  match.group(1) if match else None\n",
        "\n",
        "bedroom_pattern = re.compile(\"(\\d+)\\s*bedroom(s?)(\\s+)\")\n",
        "bed_pattern = re.compile(\"(\\d+)\\s*bed(s?)(\\s+)\")\n",
        "bath_pattern = re.compile(\"(\\d+)(\\.\\d+)?\\s*(shared | private)?\\s*bath(s?)\")\n",
        "star_pattern = re.compile(\"★\\d+(\\.\\d+)?\")\n",
        "\n",
        "df['num_bedrooms'] = df['name'].apply(func=lambda x: extract_values(x, bedroom_pattern)).astype('float')\n",
        "df['num_bathrooms'] = df['name'].apply(func=lambda x: extract_values(x, bath_pattern)).astype('float')\n",
        "df['num_beds'] = df['name'].apply(func=lambda x: extract_values(x, bed_pattern)).astype('float')\n",
        "df['stars'] = df['name'].apply(func=lambda x: extract_values(x, star_pattern)).astype('float')\n",
        "\n",
        "# after extracting features we remove name column\n",
        "df = df.drop(['name'], axis=1)"
      ]
    },
    {
      "cell_type": "code",
      "execution_count": null,
      "metadata": {
        "id": "hbOdmfWdbXju"
      },
      "outputs": [],
      "source": [
        "# creating binary columns from the column room_type\n",
        "df['private_room'] = df['room_type'].apply(func=lambda row: 1 if row == 'Private room' else 0)\n",
        "df['shared_room'] = df['room_type'].apply(func=lambda row: 1 if row == 'Shared room' else 0)\n",
        "df['hotel_room'] = df['room_type'].apply(func=lambda row: 1 if row == 'Hotel room' else 0)\n",
        "df['entire_room'] = df['room_type'].apply(func=lambda row: 1 if row == 'Entire home/apt' else 0)\n",
        "\n",
        "# deleting room_type column\n",
        "df = df.drop(['room_type'], axis=1)"
      ]
    },
    {
      "cell_type": "code",
      "execution_count": null,
      "metadata": {
        "id": "lsLG2j23ba0F"
      },
      "outputs": [],
      "source": [
        "# removing rows where price is missing\n",
        "df = df.dropna(subset=['price'], axis=0)"
      ]
    },
    {
      "cell_type": "code",
      "execution_count": null,
      "metadata": {
        "id": "hqVqGk0SzuNB"
      },
      "outputs": [],
      "source": []
    },
    {
      "cell_type": "code",
      "execution_count": null,
      "metadata": {
        "id": "WDEw7jbhkwsE"
      },
      "outputs": [],
      "source": [
        "# Changing missing values to mean value\n",
        "df['num_bedrooms'] = df['num_bedrooms'].fillna(df['num_bedrooms'].mean())\n",
        "df['num_bathrooms'] = df['num_bathrooms'].fillna(df['num_bathrooms'].mean())\n",
        "df['num_beds'] = df['num_beds'].fillna(df['num_beds'].mean())\n",
        "df['stars'] = df['stars'].fillna(df['stars'].mean())"
      ]
    },
    {
      "cell_type": "code",
      "execution_count": null,
      "metadata": {
        "colab": {
          "base_uri": "https://localhost:8080/",
          "height": 650
        },
        "id": "DA4_4SYDICWe",
        "outputId": "f611802a-5bb4-46e8-a707-8990d7fc0bed"
      },
      "outputs": [
        {
          "data": {
            "text/plain": [
              "<Axes: >"
            ]
          },
          "execution_count": 13,
          "metadata": {},
          "output_type": "execute_result"
        },
        {
          "data": {
            "image/png": "[encoded data removed]",
            "text/plain": [
              "<Figure size 640x480 with 2 Axes>"
            ]
          },
          "metadata": {},
          "output_type": "display_data"
        }
      ],
      "source": [
        "corr = df.corr()\n",
        "sns.heatmap(corr)"
      ]
    },
    {
      "cell_type": "markdown",
      "metadata": {
        "id": "aeurku_YZIyH"
      },
      "source": [
        "**Training a model**"
      ]
    },
    {
      "cell_type": "code",
      "execution_count": null,
      "metadata": {
        "id": "iPERoMMP9R2H"
      },
      "outputs": [],
      "source": [
        "from sklearn.linear_model import LinearRegression, Ridge, Lasso\n",
        "from sklearn.metrics import mean_squared_error, mean_absolute_error\n",
        "from sklearn.model_selection import train_test_split\n",
        "from sklearn.metrics import r2_score\n",
        "from sklearn.preprocessing import MinMaxScaler, LabelEncoder"
      ]
    },
    {
      "cell_type": "code",
      "execution_count": null,
      "metadata": {
        "id": "rQBStPCtxMI9"
      },
      "outputs": [],
      "source": [
        "from sklearn.preprocessing import MinMaxScaler\n",
        "\n",
        "scaler = MinMaxScaler()\n",
        "\n",
        "columns_to_normalize = df.columns[df.columns != 'price']\n",
        "df[columns_to_normalize] = scaler.fit_transform(df[columns_to_normalize])"
      ]
    },
    {
      "cell_type": "code",
      "execution_count": null,
      "metadata": {
        "id": "sCipzaV4aK57"
      },
      "outputs": [],
      "source": [
        "X_train, X_test, y_train, y_test = train_test_split(df.loc[:, df.columns != 'price'],\n",
        "                                                    df['price'])"
      ]
    },
    {
      "cell_type": "code",
      "execution_count": null,
      "metadata": {
        "colab": {
          "base_uri": "https://localhost:8080/"
        },
        "id": "F00wN6F2VbG8",
        "outputId": "a0474fea-0e5d-40e8-82bc-cbff3bc85c22"
      },
      "outputs": [
        {
          "name": "stdout",
          "output_type": "stream",
          "text": [
            "Score: 0.31711213236370195, MSE: 171906.4680420706\n"
          ]
        }
      ],
      "source": [
        "model = LinearRegression()\n",
        "model.fit(X_train, y_train)\n",
        "predictions = model.predict(X_test)\n",
        "score = model.score(X_test, y_test)\n",
        "mse = mean_squared_error(y_test, predictions)\n",
        "print(f\"Score: {score}, MSE: {mse}\")"
      ]
    },
    {
      "cell_type": "code",
      "execution_count": null,
      "metadata": {
        "colab": {
          "base_uri": "https://localhost:8080/"
        },
        "id": "16bmFw5H7fpQ",
        "outputId": "5f6bd41b-2fd2-4c9e-bf41-7e59b9af732d"
      },
      "outputs": [
        {
          "name": "stdout",
          "output_type": "stream",
          "text": [
            "Score: 0.31812965448023767, MSE: 171650.322572956\n"
          ]
        }
      ],
      "source": [
        "model = Ridge()\n",
        "model.fit(X_train, y_train)\n",
        "predictions = model.predict(X_test)\n",
        "score = model.score(X_test, y_test)\n",
        "mse = mean_squared_error(y_test, predictions)\n",
        "print(f\"Score: {score}, MSE: {mse}\")"
      ]
    },
    {
      "cell_type": "code",
      "execution_count": null,
      "metadata": {
        "colab": {
          "base_uri": "https://localhost:8080/"
        },
        "id": "qUCkA_aFbwNQ",
        "outputId": "cd9afed1-bb61-400a-f680-44d6d8577ab4"
      },
      "outputs": [
        {
          "name": "stdout",
          "output_type": "stream",
          "text": [
            "Score: 0.3206856616254048, MSE: 171006.88727202313\n"
          ]
        }
      ],
      "source": [
        "model = Lasso()\n",
        "model.fit(X_train, y_train)\n",
        "predictions = model.predict(X_test)\n",
        "score = model.score(X_test, y_test)\n",
        "mse = mean_squared_error(y_test, predictions)\n",
        "print(f\"Score: {score}, MSE: {mse}\")"
      ]
    },
    {
      "cell_type": "markdown",
      "metadata": {
        "id": "MHuNTMMYylVg"
      },
      "source": [
        "**KNN Regressor**"
      ]
    },
    {
      "cell_type": "code",
      "execution_count": null,
      "metadata": {
        "id": "SfNtEYJVymsf"
      },
      "outputs": [],
      "source": [
        "from sklearn.neighbors import KNeighborsRegressor"
      ]
    },
    {
      "cell_type": "code",
      "execution_count": null,
      "metadata": {
        "colab": {
          "base_uri": "https://localhost:8080/"
        },
        "id": "snNksQTjys6N",
        "outputId": "6d9ec16f-1894-45e1-d075-c918f1457895"
      },
      "outputs": [
        {
          "data": {
            "text/plain": [
              "0.4210483956147131"
            ]
          },
          "execution_count": 21,
          "metadata": {},
          "output_type": "execute_result"
        }
      ],
      "source": [
        "model = KNeighborsRegressor(n_neighbors = 47)\n",
        "model.fit(X_train, y_train)\n",
        "predictions = model.predict(X_test)\n",
        "score = model.score(X_test, y_test)\n",
        "# score = 1 - (np.sum((predictions - y_test) ** 2) / np.sum((y_test - y_test.mean())** 2))\n",
        "score"
      ]
    },
    {
      "cell_type": "code",
      "execution_count": null,
      "metadata": {
        "colab": {
          "base_uri": "https://localhost:8080/"
        },
        "id": "HR2pWnuO0OEk",
        "outputId": "fcd39cdb-57f1-4ba6-d5e4-7f9d5d27811d"
      },
      "outputs": [
        {
          "name": "stdout",
          "output_type": "stream",
          "text": [
            "n_neighbors: 1, score: -0.12465918639022755, mse: 283115.57086614176\n",
            "n_neighbors: 2, score: 0.1384053153424304, mse: 216893.14767880578\n",
            "n_neighbors: 3, score: 0.26911107942830237, mse: 183989.99136045497\n",
            "n_neighbors: 4, score: 0.3188549228939297, mse: 171467.7474573491\n",
            "n_neighbors: 5, score: 0.35059100191370907, mse: 163478.67998031495\n",
            "n_neighbors: 6, score: 0.36654180259741076, mse: 159463.3123951954\n",
            "n_neighbors: 7, score: 0.37581919406764497, mse: 157127.87245567518\n",
            "n_neighbors: 8, score: 0.3858126792103368, mse: 154612.16699987696\n",
            "n_neighbors: 9, score: 0.39833009425410026, mse: 151461.1011936587\n",
            "n_neighbors: 10, score: 0.4054851850651251, mse: 149659.9176492782\n",
            "n_neighbors: 11, score: 0.40036568932991035, mse: 150948.67158928225\n",
            "n_neighbors: 12, score: 0.4014536312699355, mse: 150674.79901779856\n",
            "n_neighbors: 13, score: 0.3967361883669107, mse: 151862.342370203\n",
            "n_neighbors: 14, score: 0.3996641812757905, mse: 151125.26540153465\n",
            "n_neighbors: 15, score: 0.40555909517552746, mse: 149641.31192111401\n",
            "n_neighbors: 16, score: 0.4109554630981501, mse: 148282.85968642347\n",
            "n_neighbors: 17, score: 0.4109877374569988, mse: 148274.73511531754\n",
            "n_neighbors: 18, score: 0.4106723887880016, mse: 148354.11926966885\n",
            "n_neighbors: 19, score: 0.4135303243968189, mse: 147634.67814369895\n",
            "n_neighbors: 20, score: 0.4138587916425044, mse: 147551.99159038713\n",
            "n_neighbors: 21, score: 0.4173201455243183, mse: 146680.64923878564\n",
            "n_neighbors: 22, score: 0.4200568838259805, mse: 145991.71766203552\n",
            "n_neighbors: 23, score: 0.4210079667439365, mse: 145752.29723448146\n",
            "n_neighbors: 24, score: 0.4198182937222631, mse: 146051.77903372428\n",
            "n_neighbors: 25, score: 0.42032696094322053, mse: 145923.72992125983\n",
            "n_neighbors: 26, score: 0.4221770383482836, mse: 145458.00152369778\n",
            "n_neighbors: 27, score: 0.42212083569334613, mse: 145472.14967358118\n",
            "n_neighbors: 28, score: 0.4224553907209012, mse: 145387.9306152579\n",
            "n_neighbors: 29, score: 0.4224392246685921, mse: 145392.00016911345\n",
            "n_neighbors: 30, score: 0.42515467127068785, mse: 144708.4284487095\n",
            "n_neighbors: 31, score: 0.42714233350476105, mse: 144208.0651965363\n",
            "n_neighbors: 32, score: 0.42590247477295706, mse: 144520.18047278697\n",
            "n_neighbors: 33, score: 0.423689384876191, mse: 145077.29165551963\n",
            "n_neighbors: 34, score: 0.4244643979554138, mse: 144882.19408906743\n",
            "n_neighbors: 35, score: 0.4258037890268175, mse: 144545.02308439126\n",
            "n_neighbors: 36, score: 0.42496318851504944, mse: 144756.63127346712\n",
            "n_neighbors: 37, score: 0.42428288566806693, mse: 144927.8870025058\n",
            "n_neighbors: 38, score: 0.4225079075439099, mse: 145374.7103166056\n",
            "n_neighbors: 39, score: 0.4222860657162565, mse: 145430.55556860557\n",
            "n_neighbors: 40, score: 0.4223784199378857, mse: 145407.30682045605\n",
            "n_neighbors: 41, score: 0.421917455334508, mse: 145523.34753609117\n",
            "n_neighbors: 42, score: 0.42144080800782724, mse: 145643.33613497348\n",
            "n_neighbors: 43, score: 0.4229255302653717, mse: 145269.5802499826\n",
            "n_neighbors: 44, score: 0.42198621075713916, mse: 145506.0394209182\n",
            "n_neighbors: 45, score: 0.4218735411153516, mse: 145534.40226215936\n",
            "n_neighbors: 46, score: 0.4210636161949932, mse: 145738.28834512638\n",
            "n_neighbors: 47, score: 0.4210483956147131, mse: 145742.11989100897\n",
            "n_neighbors: 48, score: 0.42094877184949286, mse: 145767.19863442163\n",
            "n_neighbors: 49, score: 0.4199608907883243, mse: 146015.88242588937\n"
          ]
        }
      ],
      "source": [
        "scores = []\n",
        "neighbors = np.arange(1, 50)\n",
        "mse1 = []\n",
        "for k in range(1, 50):\n",
        "    model = KNeighborsRegressor(n_neighbors = k)\n",
        "    model.fit(X_train, y_train)\n",
        "    score = model.score(X_test, y_test)\n",
        "    mse = mean_squared_error(y_test, model.predict(X_test))\n",
        "    scores.append(score)\n",
        "    mse1.append(mse)\n",
        "\n",
        "    print(f\"n_neighbors: {k}, score: {score}, mse: {mse}\")"
      ]
    },
    {
      "cell_type": "code",
      "execution_count": null,
      "metadata": {
        "id": "AkQ_evbZFMxS"
      },
      "outputs": [],
      "source": [
        "def vizualize_metrics(n_neighbors, scores, mse):\n",
        "    plt.figure(figsize=(10, 5))\n",
        "\n",
        "    plt.subplot(1, 2, 1)\n",
        "    plt.title('R2 score')\n",
        "    plt.plot(n_neighbors, scores, color='blue')\n",
        "    plt.xlabel('n_neighbors')\n",
        "    plt.ylabel('score')\n",
        "    plt.grid()\n",
        "\n",
        "    plt.subplot(1, 2, 2)\n",
        "    plt.title('MSE')\n",
        "    plt.plot(n_neighbors, mse1, color='red')\n",
        "    plt.xlabel('n_neighbors')\n",
        "    plt.ylabel('mse')\n",
        "    plt.grid()\n",
        "\n",
        "    plt.tight_layout()\n",
        "    plt.show()"
      ]
    },
    {
      "cell_type": "code",
      "execution_count": null,
      "metadata": {
        "colab": {
          "base_uri": "https://localhost:8080/",
          "height": 507
        },
        "id": "XHdq13exFw6O",
        "outputId": "08c34147-e887-4d3d-8d82-a95f11eb85a5"
      },
      "outputs": [
        {
          "data": {
            "image/png": "[encoded data removed]",
            "text/plain": [
              "<Figure size 1000x500 with 2 Axes>"
            ]
          },
          "metadata": {},
          "output_type": "display_data"
        }
      ],
      "source": [
        "vizualize_metrics(neighbors, scores, mse1)"
      ]
    },
    {
      "cell_type": "code",
      "execution_count": null,
      "metadata": {
        "colab": {
          "base_uri": "https://localhost:8080/"
        },
        "id": "9UuR482B2tco",
        "outputId": "d6ad29ba-2502-423e-e4b3-3ec9ae6536ab"
      },
      "outputs": [
        {
          "data": {
            "text/plain": [
              "(30, 30)"
            ]
          },
          "execution_count": 25,
          "metadata": {},
          "output_type": "execute_result"
        }
      ],
      "source": [
        "# best number of neighbors\n",
        "np.argmax(scores), np.argmin(mse1)"
      ]
    },
    {
      "cell_type": "markdown",
      "metadata": {
        "id": "Pcl-NJWbVj7g"
      },
      "source": [
        "KNN Classifier"
      ]
    },
    {
      "cell_type": "code",
      "execution_count": null,
      "metadata": {
        "id": "AjmkQlEITPnz"
      },
      "outputs": [],
      "source": [
        "# create a list of conditions\n",
        "conditions = [\n",
        "    (df['price'] < 100),\n",
        "    (df['price'] >= 100) & (df['price'] < 250),\n",
        "     (df['price'] >= 250) & (df['price'] < 600),\n",
        "    (df['price'] >= 600) ]\n",
        "\n",
        "# create a list of the values we want to assign for each condition\n",
        "categories = ['economic', 'low-mid', 'high-mid','high']\n",
        "\n",
        "# create a new column and use np.select to assign values to it using our lists as arguments\n",
        "df['price_range'] = np.select(conditions, categories)"
      ]
    },
    {
      "cell_type": "code",
      "execution_count": null,
      "metadata": {
        "id": "UKYoyY_BV7mO"
      },
      "outputs": [],
      "source": [
        "labelencoder = LabelEncoder()\n",
        "df['price_range_cat'] = labelencoder.fit_transform(df['price_range'])"
      ]
    },
    {
      "cell_type": "code",
      "execution_count": null,
      "metadata": {
        "id": "-ZpB3rMnY-Qx"
      },
      "outputs": [],
      "source": [
        "from sklearn.neighbors import KNeighborsClassifier"
      ]
    },
    {
      "cell_type": "code",
      "execution_count": null,
      "metadata": {
        "id": "KetB9u3TZ4y8"
      },
      "outputs": [],
      "source": [
        "# new df without price_range and price columns for knn classifier\n",
        "df1 = df[['minimum_nights', 'number_of_reviews',\n",
        "       'calculated_host_listings_count', 'availability_365',\n",
        "       'number_of_reviews_ltm', 'num_bedrooms', 'num_bathrooms', 'num_beds',\n",
        "       'stars', 'private_room', 'shared_room', 'hotel_room', 'entire_room','price_range_cat']]"
      ]
    },
    {
      "cell_type": "code",
      "execution_count": null,
      "metadata": {
        "id": "PnX4VqXqXgVm"
      },
      "outputs": [],
      "source": [
        "X_train, X_test, y_train, y_test = train_test_split(df1.loc[:, df1.columns != 'price_range_cat'],\n",
        "                                                    df1['price_range_cat'])"
      ]
    },
    {
      "cell_type": "code",
      "execution_count": null,
      "metadata": {
        "colab": {
          "base_uri": "https://localhost:8080/"
        },
        "id": "5nobbPDoGlwS",
        "outputId": "af366a2e-305e-4f6b-ac64-d174b77912eb"
      },
      "outputs": [
        {
          "name": "stdout",
          "output_type": "stream",
          "text": [
            "n_neighbors: 1, score: 0.5565944881889764, mse: 1.4978674540682415\n",
            "n_neighbors: 2, score: 0.5393700787401575, mse: 1.5226377952755905\n",
            "n_neighbors: 3, score: 0.5664370078740157, mse: 1.5995734908136483\n",
            "n_neighbors: 4, score: 0.5951443569553806, mse: 1.3787729658792651\n",
            "n_neighbors: 5, score: 0.6036745406824147, mse: 1.3051181102362204\n",
            "n_neighbors: 6, score: 0.6107283464566929, mse: 1.312992125984252\n",
            "n_neighbors: 7, score: 0.6138451443569554, mse: 1.2878937007874016\n",
            "n_neighbors: 8, score: 0.6164698162729659, mse: 1.3016732283464567\n",
            "n_neighbors: 9, score: 0.6156496062992126, mse: 1.293471128608924\n",
            "n_neighbors: 10, score: 0.6233595800524935, mse: 1.2831364829396326\n",
            "n_neighbors: 11, score: 0.6179461942257218, mse: 1.2844488188976377\n",
            "n_neighbors: 12, score: 0.6228674540682415, mse: 1.2828083989501313\n",
            "n_neighbors: 13, score: 0.6231955380577427, mse: 1.2773950131233596\n",
            "n_neighbors: 14, score: 0.6258202099737533, mse: 1.272965879265092\n",
            "n_neighbors: 15, score: 0.625492125984252, mse: 1.2936351706036746\n",
            "n_neighbors: 16, score: 0.6241797900262467, mse: 1.2936351706036746\n",
            "n_neighbors: 17, score: 0.6233595800524935, mse: 1.3061023622047243\n",
            "n_neighbors: 18, score: 0.6272965879265092, mse: 1.2836286089238844\n",
            "n_neighbors: 19, score: 0.6276246719160105, mse: 1.289534120734908\n",
            "n_neighbors: 20, score: 0.6284448818897638, mse: 1.26246719160105\n",
            "n_neighbors: 21, score: 0.6292650918635171, mse: 1.2563976377952757\n",
            "n_neighbors: 22, score: 0.6281167979002624, mse: 1.25246062992126\n",
            "n_neighbors: 23, score: 0.6304133858267716, mse: 1.2460629921259843\n",
            "n_neighbors: 24, score: 0.6284448818897638, mse: 1.2595144356955381\n",
            "n_neighbors: 25, score: 0.6315616797900262, mse: 1.2426181102362204\n",
            "n_neighbors: 26, score: 0.6287729658792651, mse: 1.2506561679790027\n",
            "n_neighbors: 27, score: 0.6287729658792651, mse: 1.2549212598425197\n",
            "n_neighbors: 28, score: 0.6286089238845144, mse: 1.2621391076115485\n",
            "n_neighbors: 29, score: 0.6281167979002624, mse: 1.2641076115485563\n",
            "n_neighbors: 30, score: 0.6279527559055118, mse: 1.2527887139107612\n",
            "n_neighbors: 31, score: 0.6266404199475065, mse: 1.2559055118110236\n",
            "n_neighbors: 32, score: 0.6276246719160105, mse: 1.2527887139107612\n",
            "n_neighbors: 33, score: 0.6266404199475065, mse: 1.2518044619422573\n",
            "n_neighbors: 34, score: 0.6284448818897638, mse: 1.2449146981627297\n",
            "n_neighbors: 35, score: 0.6281167979002624, mse: 1.249507874015748\n",
            "n_neighbors: 36, score: 0.6284448818897638, mse: 1.2468832020997376\n",
            "n_neighbors: 37, score: 0.6286089238845144, mse: 1.2544291338582678\n",
            "n_neighbors: 38, score: 0.6300853018372703, mse: 1.2526246719160106\n",
            "n_neighbors: 39, score: 0.6292650918635171, mse: 1.2481955380577427\n",
            "n_neighbors: 40, score: 0.6287729658792651, mse: 1.2513123359580052\n",
            "n_neighbors: 41, score: 0.6295931758530183, mse: 1.2434383202099737\n",
            "n_neighbors: 42, score: 0.6274606299212598, mse: 1.2598425196850394\n",
            "n_neighbors: 43, score: 0.6292650918635171, mse: 1.2545931758530184\n",
            "n_neighbors: 44, score: 0.6297572178477691, mse: 1.2585301837270342\n",
            "n_neighbors: 45, score: 0.6271325459317585, mse: 1.27247375328084\n",
            "n_neighbors: 46, score: 0.6281167979002624, mse: 1.2591863517060367\n",
            "n_neighbors: 47, score: 0.6279527559055118, mse: 1.2549212598425197\n",
            "n_neighbors: 48, score: 0.6295931758530183, mse: 1.2537729658792651\n",
            "n_neighbors: 49, score: 0.6315616797900262, mse: 1.245242782152231\n"
          ]
        }
      ],
      "source": [
        "mse1 = []\n",
        "scores = []\n",
        "neighbors = np.arange(1, 50)\n",
        "for k in range(1, 50):\n",
        "    model = KNeighborsClassifier(n_neighbors=k)\n",
        "    model.fit(X_train, y_train)\n",
        "    predictions = model.predict(X_test)\n",
        "    mse = mean_squared_error(y_test, predictions)\n",
        "    score = model.score(X_test, y_test)\n",
        "    scores.append(score)\n",
        "    mse1.append(mse)\n",
        "    print(f\"n_neighbors: {k}, score: {score}, mse: {mse}\")"
      ]
    },
    {
      "cell_type": "code",
      "execution_count": null,
      "metadata": {
        "colab": {
          "base_uri": "https://localhost:8080/",
          "height": 507
        },
        "id": "uNMxjtyVH6mx",
        "outputId": "ce6f0077-59e3-4822-ef79-c3638173ab9d"
      },
      "outputs": [
        {
          "data": {
            "image/png": "[encoded data removed]",
            "text/plain": [
              "<Figure size 1000x500 with 2 Axes>"
            ]
          },
          "metadata": {},
          "output_type": "display_data"
        }
      ],
      "source": [
        "vizualize_metrics(neighbors, scores, mse1)"
      ]
    },
    {
      "cell_type": "code",
      "execution_count": null,
      "metadata": {
        "colab": {
          "base_uri": "https://localhost:8080/"
        },
        "id": "KslH01FfIN3-",
        "outputId": "cf2f5c19-abe4-4977-9b31-6cd3909933b1"
      },
      "outputs": [
        {
          "data": {
            "text/plain": [
              "(24, 24)"
            ]
          },
          "execution_count": 33,
          "metadata": {},
          "output_type": "execute_result"
        }
      ],
      "source": [
        "# best number of neighbors\n",
        "np.argmax(scores), np.argmin(mse1)"
      ]
    },
    {
      "cell_type": "code",
      "execution_count": null,
      "metadata": {
        "colab": {
          "base_uri": "https://localhost:8080/",
          "height": 424
        },
        "id": "E8rCl2I2bJg_",
        "outputId": "03e1b80d-5c25-4e26-81c5-468e18ca283a"
      },
      "outputs": [
        {
          "data": {
            "application/vnd.google.colaboratory.intrinsic+json": {
              "summary": "{\n  \"name\": \"preds\",\n  \"rows\": 6096,\n  \"fields\": [\n    {\n      \"column\": \"actual\",\n      \"properties\": {\n        \"dtype\": \"number\",\n        \"std\": 1,\n        \"min\": 0,\n        \"max\": 3,\n        \"num_unique_values\": 4,\n        \"samples\": [\n          3,\n          1,\n          2\n        ],\n        \"semantic_type\": \"\",\n        \"description\": \"\"\n      }\n    },\n    {\n      \"column\": \"predicted\",\n      \"properties\": {\n        \"dtype\": \"number\",\n        \"std\": 1,\n        \"min\": 0,\n        \"max\": 3,\n        \"num_unique_values\": 4,\n        \"samples\": [\n          3,\n          1,\n          2\n        ],\n        \"semantic_type\": \"\",\n        \"description\": \"\"\n      }\n    }\n  ]\n}",
              "type": "dataframe",
              "variable_name": "preds"
            },
            "text/html": [
              "\n",
              "  <div id=\"df-044e2654-fd77-4587-9329-a9067f3cff4e\" class=\"colab-df-container\">\n",
              "    <div>\n",
              "<style scoped>\n",
              "    .dataframe tbody tr th:only-of-type {\n",
              "        vertical-align: middle;\n",
              "    }\n",
              "\n",
              "    .dataframe tbody tr th {\n",
              "        vertical-align: top;\n",
              "    }\n",
              "\n",
              "    .dataframe thead th {\n",
              "        text-align: right;\n",
              "    }\n",
              "</style>\n",
              "<table border=\"1\" class=\"dataframe\">\n",
              "  <thead>\n",
              "    <tr style=\"text-align: right;\">\n",
              "      <th></th>\n",
              "      <th>actual</th>\n",
              "      <th>predicted</th>\n",
              "    </tr>\n",
              "  </thead>\n",
              "  <tbody>\n",
              "    <tr>\n",
              "      <th>0</th>\n",
              "      <td>2</td>\n",
              "      <td>2</td>\n",
              "    </tr>\n",
              "    <tr>\n",
              "      <th>1</th>\n",
              "      <td>2</td>\n",
              "      <td>2</td>\n",
              "    </tr>\n",
              "    <tr>\n",
              "      <th>2</th>\n",
              "      <td>3</td>\n",
              "      <td>3</td>\n",
              "    </tr>\n",
              "    <tr>\n",
              "      <th>3</th>\n",
              "      <td>0</td>\n",
              "      <td>3</td>\n",
              "    </tr>\n",
              "    <tr>\n",
              "      <th>4</th>\n",
              "      <td>2</td>\n",
              "      <td>2</td>\n",
              "    </tr>\n",
              "    <tr>\n",
              "      <th>...</th>\n",
              "      <td>...</td>\n",
              "      <td>...</td>\n",
              "    </tr>\n",
              "    <tr>\n",
              "      <th>6091</th>\n",
              "      <td>3</td>\n",
              "      <td>3</td>\n",
              "    </tr>\n",
              "    <tr>\n",
              "      <th>6092</th>\n",
              "      <td>0</td>\n",
              "      <td>3</td>\n",
              "    </tr>\n",
              "    <tr>\n",
              "      <th>6093</th>\n",
              "      <td>1</td>\n",
              "      <td>1</td>\n",
              "    </tr>\n",
              "    <tr>\n",
              "      <th>6094</th>\n",
              "      <td>1</td>\n",
              "      <td>1</td>\n",
              "    </tr>\n",
              "    <tr>\n",
              "      <th>6095</th>\n",
              "      <td>3</td>\n",
              "      <td>3</td>\n",
              "    </tr>\n",
              "  </tbody>\n",
              "</table>\n",
              "<p>6096 rows × 2 columns</p>\n",
              "</div>\n",
              "    <div class=\"colab-df-buttons\">\n",
              "\n",
              "  <div class=\"colab-df-container\">\n",
              "    <button class=\"colab-df-convert\" onclick=\"convertToInteractive('df-044e2654-fd77-4587-9329-a9067f3cff4e')\"\n",
              "            title=\"Convert this dataframe to an interactive table.\"\n",
              "            style=\"display:none;\">\n",
              "\n",
              "  <svg xmlns=\"http://www.w3.org/2000/svg\" height=\"24px\" viewBox=\"0 -960 960 960\">\n",
              "    <path d=\"M120-120v-720h720v720H120Zm60-500h600v-160H180v160Zm220 220h160v-160H400v160Zm0 220h160v-160H400v160ZM180-400h160v-160H180v160Zm440 0h160v-160H620v160ZM180-180h160v-160H180v160Zm440 0h160v-160H620v160Z\"/>\n",
              "  </svg>\n",
              "    </button>\n",
              "\n",
              "  <style>\n",
              "    .colab-df-container {\n",
              "      display:flex;\n",
              "      gap: 12px;\n",
              "    }\n",
              "\n",
              "    .colab-df-convert {\n",
              "      background-color: #E8F0FE;\n",
              "      border: none;\n",
              "      border-radius: 50%;\n",
              "      cursor: pointer;\n",
              "      display: none;\n",
              "      fill: #1967D2;\n",
              "      height: 32px;\n",
              "      padding: 0 0 0 0;\n",
              "      width: 32px;\n",
              "    }\n",
              "\n",
              "    .colab-df-convert:hover {\n",
              "      background-color: #E2EBFA;\n",
              "      box-shadow: 0px 1px 2px rgba(60, 64, 67, 0.3), 0px 1px 3px 1px rgba(60, 64, 67, 0.15);\n",
              "      fill: #174EA6;\n",
              "    }\n",
              "\n",
              "    .colab-df-buttons div {\n",
              "      margin-bottom: 4px;\n",
              "    }\n",
              "\n",
              "    [theme=dark] .colab-df-convert {\n",
              "      background-color: #3B4455;\n",
              "      fill: #D2E3FC;\n",
              "    }\n",
              "\n",
              "    [theme=dark] .colab-df-convert:hover {\n",
              "      background-color: #434B5C;\n",
              "      box-shadow: 0px 1px 3px 1px rgba(0, 0, 0, 0.15);\n",
              "      filter: drop-shadow(0px 1px 2px rgba(0, 0, 0, 0.3));\n",
              "      fill: #FFFFFF;\n",
              "    }\n",
              "  </style>\n",
              "\n",
              "    <script>\n",
              "      const buttonEl =\n",
              "        document.querySelector('#df-044e2654-fd77-4587-9329-a9067f3cff4e button.colab-df-convert');\n",
              "      buttonEl.style.display =\n",
              "        google.colab.kernel.accessAllowed ? 'block' : 'none';\n",
              "\n",
              "      async function convertToInteractive(key) {\n",
              "        const element = document.querySelector('#df-044e2654-fd77-4587-9329-a9067f3cff4e');\n",
              "        const dataTable =\n",
              "          await google.colab.kernel.invokeFunction('convertToInteractive',\n",
              "                                                    [key], {});\n",
              "        if (!dataTable) return;\n",
              "\n",
              "        const docLinkHtml = 'Like what you see? Visit the ' +\n",
              "          '<a target=\"_blank\" href=https://colab.research.google.com/notebooks/data_table.ipynb>data table notebook</a>'\n",
              "          + ' to learn more about interactive tables.';\n",
              "        element.innerHTML = '';\n",
              "        dataTable['output_type'] = 'display_data';\n",
              "        await google.colab.output.renderOutput(dataTable, element);\n",
              "        const docLink = document.createElement('div');\n",
              "        docLink.innerHTML = docLinkHtml;\n",
              "        element.appendChild(docLink);\n",
              "      }\n",
              "    </script>\n",
              "  </div>\n",
              "\n",
              "\n",
              "<div id=\"df-d545c86f-7db2-4a02-8dac-2f35c48fe1cb\">\n",
              "  <button class=\"colab-df-quickchart\" onclick=\"quickchart('df-d545c86f-7db2-4a02-8dac-2f35c48fe1cb')\"\n",
              "            title=\"Suggest charts\"\n",
              "            style=\"display:none;\">\n",
              "\n",
              "<svg xmlns=\"http://www.w3.org/2000/svg\" height=\"24px\"viewBox=\"0 0 24 24\"\n",
              "     width=\"24px\">\n",
              "    <g>\n",
              "        <path d=\"M19 3H5c-1.1 0-2 .9-2 2v14c0 1.1.9 2 2 2h14c1.1 0 2-.9 2-2V5c0-1.1-.9-2-2-2zM9 17H7v-7h2v7zm4 0h-2V7h2v10zm4 0h-2v-4h2v4z\"/>\n",
              "    </g>\n",
              "</svg>\n",
              "  </button>\n",
              "\n",
              "<style>\n",
              "  .colab-df-quickchart {\n",
              "      --bg-color: #E8F0FE;\n",
              "      --fill-color: #1967D2;\n",
              "      --hover-bg-color: #E2EBFA;\n",
              "      --hover-fill-color: #174EA6;\n",
              "      --disabled-fill-color: #AAA;\n",
              "      --disabled-bg-color: #DDD;\n",
              "  }\n",
              "\n",
              "  [theme=dark] .colab-df-quickchart {\n",
              "      --bg-color: #3B4455;\n",
              "      --fill-color: #D2E3FC;\n",
              "      --hover-bg-color: #434B5C;\n",
              "      --hover-fill-color: #FFFFFF;\n",
              "      --disabled-bg-color: #3B4455;\n",
              "      --disabled-fill-color: #666;\n",
              "  }\n",
              "\n",
              "  .colab-df-quickchart {\n",
              "    background-color: var(--bg-color);\n",
              "    border: none;\n",
              "    border-radius: 50%;\n",
              "    cursor: pointer;\n",
              "    display: none;\n",
              "    fill: var(--fill-color);\n",
              "    height: 32px;\n",
              "    padding: 0;\n",
              "    width: 32px;\n",
              "  }\n",
              "\n",
              "  .colab-df-quickchart:hover {\n",
              "    background-color: var(--hover-bg-color);\n",
              "    box-shadow: 0 1px 2px rgba(60, 64, 67, 0.3), 0 1px 3px 1px rgba(60, 64, 67, 0.15);\n",
              "    fill: var(--button-hover-fill-color);\n",
              "  }\n",
              "\n",
              "  .colab-df-quickchart-complete:disabled,\n",
              "  .colab-df-quickchart-complete:disabled:hover {\n",
              "    background-color: var(--disabled-bg-color);\n",
              "    fill: var(--disabled-fill-color);\n",
              "    box-shadow: none;\n",
              "  }\n",
              "\n",
              "  .colab-df-spinner {\n",
              "    border: 2px solid var(--fill-color);\n",
              "    border-color: transparent;\n",
              "    border-bottom-color: var(--fill-color);\n",
              "    animation:\n",
              "      spin 1s steps(1) infinite;\n",
              "  }\n",
              "\n",
              "  @keyframes spin {\n",
              "    0% {\n",
              "      border-color: transparent;\n",
              "      border-bottom-color: var(--fill-color);\n",
              "      border-left-color: var(--fill-color);\n",
              "    }\n",
              "    20% {\n",
              "      border-color: transparent;\n",
              "      border-left-color: var(--fill-color);\n",
              "      border-top-color: var(--fill-color);\n",
              "    }\n",
              "    30% {\n",
              "      border-color: transparent;\n",
              "      border-left-color: var(--fill-color);\n",
              "      border-top-color: var(--fill-color);\n",
              "      border-right-color: var(--fill-color);\n",
              "    }\n",
              "    40% {\n",
              "      border-color: transparent;\n",
              "      border-right-color: var(--fill-color);\n",
              "      border-top-color: var(--fill-color);\n",
              "    }\n",
              "    60% {\n",
              "      border-color: transparent;\n",
              "      border-right-color: var(--fill-color);\n",
              "    }\n",
              "    80% {\n",
              "      border-color: transparent;\n",
              "      border-right-color: var(--fill-color);\n",
              "      border-bottom-color: var(--fill-color);\n",
              "    }\n",
              "    90% {\n",
              "      border-color: transparent;\n",
              "      border-bottom-color: var(--fill-color);\n",
              "    }\n",
              "  }\n",
              "</style>\n",
              "\n",
              "  <script>\n",
              "    async function quickchart(key) {\n",
              "      const quickchartButtonEl =\n",
              "        document.querySelector('#' + key + ' button');\n",
              "      quickchartButtonEl.disabled = true;  // To prevent multiple clicks.\n",
              "      quickchartButtonEl.classList.add('colab-df-spinner');\n",
              "      try {\n",
              "        const charts = await google.colab.kernel.invokeFunction(\n",
              "            'suggestCharts', [key], {});\n",
              "      } catch (error) {\n",
              "        console.error('Error during call to suggestCharts:', error);\n",
              "      }\n",
              "      quickchartButtonEl.classList.remove('colab-df-spinner');\n",
              "      quickchartButtonEl.classList.add('colab-df-quickchart-complete');\n",
              "    }\n",
              "    (() => {\n",
              "      let quickchartButtonEl =\n",
              "        document.querySelector('#df-d545c86f-7db2-4a02-8dac-2f35c48fe1cb button');\n",
              "      quickchartButtonEl.style.display =\n",
              "        google.colab.kernel.accessAllowed ? 'block' : 'none';\n",
              "    })();\n",
              "  </script>\n",
              "</div>\n",
              "\n",
              "  <div id=\"id_40f5d504-7e20-48aa-a89e-bbc0683428b3\">\n",
              "    <style>\n",
              "      .colab-df-generate {\n",
              "        background-color: #E8F0FE;\n",
              "        border: none;\n",
              "        border-radius: 50%;\n",
              "        cursor: pointer;\n",
              "        display: none;\n",
              "        fill: #1967D2;\n",
              "        height: 32px;\n",
              "        padding: 0 0 0 0;\n",
              "        width: 32px;\n",
              "      }\n",
              "\n",
              "      .colab-df-generate:hover {\n",
              "        background-color: #E2EBFA;\n",
              "        box-shadow: 0px 1px 2px rgba(60, 64, 67, 0.3), 0px 1px 3px 1px rgba(60, 64, 67, 0.15);\n",
              "        fill: #174EA6;\n",
              "      }\n",
              "\n",
              "      [theme=dark] .colab-df-generate {\n",
              "        background-color: #3B4455;\n",
              "        fill: #D2E3FC;\n",
              "      }\n",
              "\n",
              "      [theme=dark] .colab-df-generate:hover {\n",
              "        background-color: #434B5C;\n",
              "        box-shadow: 0px 1px 3px 1px rgba(0, 0, 0, 0.15);\n",
              "        filter: drop-shadow(0px 1px 2px rgba(0, 0, 0, 0.3));\n",
              "        fill: #FFFFFF;\n",
              "      }\n",
              "    </style>\n",
              "    <button class=\"colab-df-generate\" onclick=\"generateWithVariable('preds')\"\n",
              "            title=\"Generate code using this dataframe.\"\n",
              "            style=\"display:none;\">\n",
              "\n",
              "  <svg xmlns=\"http://www.w3.org/2000/svg\" height=\"24px\"viewBox=\"0 0 24 24\"\n",
              "       width=\"24px\">\n",
              "    <path d=\"M7,19H8.4L18.45,9,17,7.55,7,17.6ZM5,21V16.75L18.45,3.32a2,2,0,0,1,2.83,0l1.4,1.43a1.91,1.91,0,0,1,.58,1.4,1.91,1.91,0,0,1-.58,1.4L9.25,21ZM18.45,9,17,7.55Zm-12,3A5.31,5.31,0,0,0,4.9,8.1,5.31,5.31,0,0,0,1,6.5,5.31,5.31,0,0,0,4.9,4.9,5.31,5.31,0,0,0,6.5,1,5.31,5.31,0,0,0,8.1,4.9,5.31,5.31,0,0,0,12,6.5,5.46,5.46,0,0,0,6.5,12Z\"/>\n",
              "  </svg>\n",
              "    </button>\n",
              "    <script>\n",
              "      (() => {\n",
              "      const buttonEl =\n",
              "        document.querySelector('#id_40f5d504-7e20-48aa-a89e-bbc0683428b3 button.colab-df-generate');\n",
              "      buttonEl.style.display =\n",
              "        google.colab.kernel.accessAllowed ? 'block' : 'none';\n",
              "\n",
              "      buttonEl.onclick = () => {\n",
              "        google.colab.notebook.generateWithVariable('preds');\n",
              "      }\n",
              "      })();\n",
              "    </script>\n",
              "  </div>\n",
              "\n",
              "    </div>\n",
              "  </div>\n"
            ],
            "text/plain": [
              "      actual  predicted\n",
              "0          2          2\n",
              "1          2          2\n",
              "2          3          3\n",
              "3          0          3\n",
              "4          2          2\n",
              "...      ...        ...\n",
              "6091       3          3\n",
              "6092       0          3\n",
              "6093       1          1\n",
              "6094       1          1\n",
              "6095       3          3\n",
              "\n",
              "[6096 rows x 2 columns]"
            ]
          },
          "execution_count": 34,
          "metadata": {},
          "output_type": "execute_result"
        }
      ],
      "source": [
        "preds = pd.DataFrame({'actual': y_test.values, 'predicted': predictions})\n",
        "preds"
      ]
    },
    {
      "cell_type": "markdown",
      "metadata": {
        "id": "xFcqi066mDX0"
      },
      "source": [
        "Decision Tree"
      ]
    },
    {
      "cell_type": "code",
      "execution_count": null,
      "metadata": {
        "id": "s7SWx80zcHkE"
      },
      "outputs": [],
      "source": [
        "from sklearn.tree import DecisionTreeClassifier\n",
        "from sklearn.metrics import confusion_matrix\n",
        "from sklearn.tree import plot_tree"
      ]
    },
    {
      "cell_type": "code",
      "execution_count": null,
      "metadata": {
        "colab": {
          "base_uri": "https://localhost:8080/"
        },
        "id": "jKwo8kpBmjdc",
        "outputId": "052448f6-69cd-4067-e0e4-fed4642526ce"
      },
      "outputs": [
        {
          "name": "stdout",
          "output_type": "stream",
          "text": [
            "Accuracy: 0.589238845144357, MSE: 1.365977690288714\n"
          ]
        }
      ],
      "source": [
        "tree = DecisionTreeClassifier(criterion='entropy', min_samples_split=2)\n",
        "tree.fit(X_train, y_train)\n",
        "predictions = tree.predict(X_test)\n",
        "accuracy = tree.score(X_test, y_test)\n",
        "mse = mean_squared_error(y_test, predictions)\n",
        "\n",
        "print(f\"Accuracy: {accuracy}, MSE: {mse}\")"
      ]
    },
    {
      "cell_type": "code",
      "execution_count": null,
      "metadata": {
        "colab": {
          "base_uri": "https://localhost:8080/"
        },
        "id": "mnr1lPFunATD",
        "outputId": "b7041b7b-d44c-4fc6-942c-e40bfdf29236"
      },
      "outputs": [
        {
          "name": "stdout",
          "output_type": "stream",
          "text": [
            "min_samples_split: 2, Accuracy: 0.5651246719160105, MSE: 1.4726049868766404\n",
            "min_samples_split: 3, Accuracy: 0.5984251968503937, MSE: 1.3218503937007875\n",
            "min_samples_split: 4, Accuracy: 0.631233595800525, MSE: 1.25\n",
            "min_samples_split: 5, Accuracy: 0.6325459317585301, MSE: 1.2463910761154855\n",
            "min_samples_split: 6, Accuracy: 0.6423884514435696, MSE: 1.2253937007874016\n",
            "min_samples_split: 7, Accuracy: 0.6430446194225722, MSE: 1.2263779527559056\n",
            "min_samples_split: 8, Accuracy: 0.6456692913385826, MSE: 1.2370406824146982\n",
            "min_samples_split: 9, Accuracy: 0.6468175853018373, MSE: 1.224737532808399\n",
            "min_samples_split: 10, Accuracy: 0.645505249343832, MSE: 1.2436023622047243\n",
            "min_samples_split: 11, Accuracy: 0.6461614173228346, MSE: 1.2350721784776904\n",
            "min_samples_split: 12, Accuracy: 0.6469816272965879, MSE: 1.2188320209973753\n",
            "min_samples_split: 13, Accuracy: 0.6428805774278216, MSE: 1.230479002624672\n",
            "min_samples_split: 14, Accuracy: 0.6410761154855643, MSE: 1.225229658792651\n",
            "min_samples_split: 15, Accuracy: 0.6399278215223098, MSE: 1.2308070866141732\n",
            "min_samples_split: 16, Accuracy: 0.6399278215223098, MSE: 1.2335958005249343\n",
            "min_samples_split: 17, Accuracy: 0.6392716535433071, MSE: 1.234744094488189\n",
            "min_samples_split: 18, Accuracy: 0.6379593175853019, MSE: 1.2312992125984252\n",
            "min_samples_split: 19, Accuracy: 0.6376312335958005, MSE: 1.2360564304461943\n",
            "min_samples_split: 20, Accuracy: 0.6376312335958005, MSE: 1.2391732283464567\n",
            "min_samples_split: 21, Accuracy: 0.6363188976377953, MSE: 1.245242782152231\n",
            "min_samples_split: 22, Accuracy: 0.6387795275590551, MSE: 1.2365485564304461\n",
            "min_samples_split: 23, Accuracy: 0.6384514435695539, MSE: 1.2368766404199476\n",
            "min_samples_split: 24, Accuracy: 0.6382874015748031, MSE: 1.2383530183727034\n",
            "min_samples_split: 25, Accuracy: 0.6382874015748031, MSE: 1.2383530183727034\n",
            "min_samples_split: 26, Accuracy: 0.6379593175853019, MSE: 1.2386811023622046\n",
            "min_samples_split: 27, Accuracy: 0.6381233595800525, MSE: 1.238517060367454\n",
            "min_samples_split: 28, Accuracy: 0.6381233595800525, MSE: 1.238517060367454\n",
            "min_samples_split: 29, Accuracy: 0.6381233595800525, MSE: 1.238517060367454\n",
            "min_samples_split: 30, Accuracy: 0.6381233595800525, MSE: 1.238517060367454\n",
            "min_samples_split: 31, Accuracy: 0.6382874015748031, MSE: 1.2383530183727034\n",
            "min_samples_split: 32, Accuracy: 0.6381233595800525, MSE: 1.238517060367454\n",
            "min_samples_split: 33, Accuracy: 0.6381233595800525, MSE: 1.238517060367454\n",
            "min_samples_split: 34, Accuracy: 0.6382874015748031, MSE: 1.2383530183727034\n",
            "min_samples_split: 35, Accuracy: 0.6381233595800525, MSE: 1.238517060367454\n",
            "min_samples_split: 36, Accuracy: 0.6382874015748031, MSE: 1.2383530183727034\n",
            "min_samples_split: 37, Accuracy: 0.6379593175853019, MSE: 1.2386811023622046\n",
            "min_samples_split: 38, Accuracy: 0.6381233595800525, MSE: 1.238517060367454\n",
            "min_samples_split: 39, Accuracy: 0.6381233595800525, MSE: 1.238517060367454\n",
            "min_samples_split: 40, Accuracy: 0.6381233595800525, MSE: 1.238517060367454\n",
            "min_samples_split: 41, Accuracy: 0.6379593175853019, MSE: 1.2386811023622046\n",
            "min_samples_split: 42, Accuracy: 0.6381233595800525, MSE: 1.238517060367454\n",
            "min_samples_split: 43, Accuracy: 0.6382874015748031, MSE: 1.2383530183727034\n",
            "min_samples_split: 44, Accuracy: 0.6382874015748031, MSE: 1.2383530183727034\n",
            "min_samples_split: 45, Accuracy: 0.6379593175853019, MSE: 1.2386811023622046\n",
            "min_samples_split: 46, Accuracy: 0.6381233595800525, MSE: 1.238517060367454\n",
            "min_samples_split: 47, Accuracy: 0.6381233595800525, MSE: 1.238517060367454\n",
            "min_samples_split: 48, Accuracy: 0.6381233595800525, MSE: 1.238517060367454\n",
            "min_samples_split: 49, Accuracy: 0.6379593175853019, MSE: 1.2386811023622046\n",
            "min_samples_split: 50, Accuracy: 0.6381233595800525, MSE: 1.238517060367454\n",
            "min_samples_split: 51, Accuracy: 0.6379593175853019, MSE: 1.2386811023622046\n",
            "min_samples_split: 52, Accuracy: 0.6381233595800525, MSE: 1.238517060367454\n",
            "min_samples_split: 53, Accuracy: 0.6379593175853019, MSE: 1.2386811023622046\n",
            "min_samples_split: 54, Accuracy: 0.6379593175853019, MSE: 1.2386811023622046\n",
            "min_samples_split: 55, Accuracy: 0.6381233595800525, MSE: 1.238517060367454\n",
            "min_samples_split: 56, Accuracy: 0.6379593175853019, MSE: 1.2386811023622046\n",
            "min_samples_split: 57, Accuracy: 0.6379593175853019, MSE: 1.2386811023622046\n",
            "min_samples_split: 58, Accuracy: 0.6379593175853019, MSE: 1.2386811023622046\n",
            "min_samples_split: 59, Accuracy: 0.6379593175853019, MSE: 1.2386811023622046\n",
            "min_samples_split: 60, Accuracy: 0.6381233595800525, MSE: 1.238517060367454\n",
            "min_samples_split: 61, Accuracy: 0.6381233595800525, MSE: 1.238517060367454\n",
            "min_samples_split: 62, Accuracy: 0.6382874015748031, MSE: 1.2383530183727034\n",
            "min_samples_split: 63, Accuracy: 0.6381233595800525, MSE: 1.238517060367454\n",
            "min_samples_split: 64, Accuracy: 0.6381233595800525, MSE: 1.238517060367454\n",
            "min_samples_split: 65, Accuracy: 0.6382874015748031, MSE: 1.2383530183727034\n",
            "min_samples_split: 66, Accuracy: 0.6381233595800525, MSE: 1.238517060367454\n",
            "min_samples_split: 67, Accuracy: 0.6379593175853019, MSE: 1.2386811023622046\n",
            "min_samples_split: 68, Accuracy: 0.6379593175853019, MSE: 1.2386811023622046\n",
            "min_samples_split: 69, Accuracy: 0.6381233595800525, MSE: 1.238517060367454\n",
            "min_samples_split: 70, Accuracy: 0.6382874015748031, MSE: 1.2383530183727034\n",
            "min_samples_split: 71, Accuracy: 0.6381233595800525, MSE: 1.238517060367454\n",
            "min_samples_split: 72, Accuracy: 0.6381233595800525, MSE: 1.238517060367454\n",
            "min_samples_split: 73, Accuracy: 0.6379593175853019, MSE: 1.2386811023622046\n",
            "min_samples_split: 74, Accuracy: 0.6382874015748031, MSE: 1.2383530183727034\n",
            "min_samples_split: 75, Accuracy: 0.6382874015748031, MSE: 1.2383530183727034\n",
            "min_samples_split: 76, Accuracy: 0.6379593175853019, MSE: 1.2386811023622046\n",
            "min_samples_split: 77, Accuracy: 0.6381233595800525, MSE: 1.238517060367454\n",
            "min_samples_split: 78, Accuracy: 0.6381233595800525, MSE: 1.238517060367454\n",
            "min_samples_split: 79, Accuracy: 0.6381233595800525, MSE: 1.238517060367454\n",
            "min_samples_split: 80, Accuracy: 0.6379593175853019, MSE: 1.2386811023622046\n",
            "min_samples_split: 81, Accuracy: 0.6381233595800525, MSE: 1.238517060367454\n",
            "min_samples_split: 82, Accuracy: 0.6381233595800525, MSE: 1.238517060367454\n",
            "min_samples_split: 83, Accuracy: 0.6381233595800525, MSE: 1.238517060367454\n",
            "min_samples_split: 84, Accuracy: 0.6381233595800525, MSE: 1.238517060367454\n",
            "min_samples_split: 85, Accuracy: 0.6379593175853019, MSE: 1.2386811023622046\n",
            "min_samples_split: 86, Accuracy: 0.6381233595800525, MSE: 1.238517060367454\n",
            "min_samples_split: 87, Accuracy: 0.6379593175853019, MSE: 1.2386811023622046\n",
            "min_samples_split: 88, Accuracy: 0.6381233595800525, MSE: 1.238517060367454\n",
            "min_samples_split: 89, Accuracy: 0.6381233595800525, MSE: 1.238517060367454\n",
            "min_samples_split: 90, Accuracy: 0.6379593175853019, MSE: 1.2386811023622046\n",
            "min_samples_split: 91, Accuracy: 0.6381233595800525, MSE: 1.238517060367454\n",
            "min_samples_split: 92, Accuracy: 0.6381233595800525, MSE: 1.238517060367454\n",
            "min_samples_split: 93, Accuracy: 0.6382874015748031, MSE: 1.2383530183727034\n",
            "min_samples_split: 94, Accuracy: 0.6379593175853019, MSE: 1.2386811023622046\n",
            "min_samples_split: 95, Accuracy: 0.6381233595800525, MSE: 1.238517060367454\n",
            "min_samples_split: 96, Accuracy: 0.6381233595800525, MSE: 1.238517060367454\n",
            "min_samples_split: 97, Accuracy: 0.6379593175853019, MSE: 1.2386811023622046\n",
            "min_samples_split: 98, Accuracy: 0.6382874015748031, MSE: 1.2383530183727034\n",
            "min_samples_split: 99, Accuracy: 0.6382874015748031, MSE: 1.2383530183727034\n"
          ]
        }
      ],
      "source": [
        "for i in range(2, 100):\n",
        "    tree = DecisionTreeClassifier(criterion='gini', min_samples_split=60, max_depth=i)\n",
        "    tree.fit(X_train, y_train)\n",
        "    predictions = tree.predict(X_test)\n",
        "    accuracy = tree.score(X_test, y_test)\n",
        "    mse = mean_squared_error(y_test, predictions)\n",
        "\n",
        "    print(f\"min_samples_split: {i}, Accuracy: {accuracy}, MSE: {mse}\")"
      ]
    },
    {
      "cell_type": "code",
      "execution_count": null,
      "metadata": {
        "id": "Onv3BjFQlR9N"
      },
      "outputs": [],
      "source": [
        "from sklearn.ensemble import RandomForestClassifier\n",
        "from sklearn.metrics import confusion_matrix, ConfusionMatrixDisplay"
      ]
    },
    {
      "cell_type": "code",
      "execution_count": null,
      "metadata": {
        "colab": {
          "base_uri": "https://localhost:8080/"
        },
        "id": "lDYb-82rlkTo",
        "outputId": "cd104a0a-912a-48fe-e4cb-9e04f081df06"
      },
      "outputs": [
        {
          "name": "stdout",
          "output_type": "stream",
          "text": [
            "Accuracy: 0.666994750656168, MSE: 1.1277887139107612\n"
          ]
        }
      ],
      "source": [
        "model = RandomForestClassifier()\n",
        "random_forest = RandomForestClassifier(criterion='gini', min_samples_split=30)\n",
        "random_forest.fit(X_train, y_train)\n",
        "predictions = random_forest.predict(X_test)\n",
        "accuracy = random_forest.score(X_test, y_test)\n",
        "mse = mean_squared_error(y_test, predictions)\n",
        "\n",
        "print(f\"Accuracy: {accuracy}, MSE: {mse}\")"
      ]
    },
    {
      "cell_type": "code",
      "execution_count": null,
      "metadata": {
        "colab": {
          "base_uri": "https://localhost:8080/",
          "height": 467
        },
        "id": "6n702U_qmNP2",
        "outputId": "4ef91d24-9f93-46f0-ba35-693870643dc2"
      },
      "outputs": [
        {
          "data": {
            "text/plain": [
              "<sklearn.metrics._plot.confusion_matrix.ConfusionMatrixDisplay at 0x7fd84bfcbd60>"
            ]
          },
          "execution_count": 56,
          "metadata": {},
          "output_type": "execute_result"
        },
        {
          "data": {
            "image/png": "[encoded data removed]",
            "text/plain": [
              "<Figure size 640x480 with 2 Axes>"
            ]
          },
          "metadata": {},
          "output_type": "display_data"
        }
      ],
      "source": [
        "cm = confusion_matrix(y_test, predictions)\n",
        "cm_display = ConfusionMatrixDisplay(cm)\n",
        "cm_display.plot()"
      ]
    },
    {
      "cell_type": "code",
      "execution_count": null,
      "metadata": {
        "id": "ICPuDv7JnOfs"
      },
      "outputs": [],
      "source": []
    }
  ],
  "metadata": {
    "accelerator": "GPU",
    "colab": {
      "gpuType": "T4",
      "provenance": []
    },
    "kernelspec": {
      "display_name": "Python 3",
      "name": "python3"
    },
    "language_info": {
      "codemirror_mode": {
        "name": "ipython",
        "version": 3
      },
      "file_extension": ".py",
      "mimetype": "text/x-python",
      "name": "python",
      "nbconvert_exporter": "python",
      "pygments_lexer": "ipython3",
      "version": "3.11.6"
    }
  },
  "nbformat": 4,
  "nbformat_minor": 0
}
